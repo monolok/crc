{
 "cells": [
  {
   "cell_type": "code",
   "execution_count": 3,
   "metadata": {},
   "outputs": [],
   "source": [
    "import pandas as pd\n",
    "from sklearn.model_selection import train_test_split, learning_curve\n",
    "from sklearn.linear_model import LogisticRegression\n",
    "from sklearn.metrics import classification_report, f1_score, confusion_matrix, make_scorer, ConfusionMatrixDisplay, precision_score, recall_score\n",
    "from sklearn.preprocessing import StandardScaler, OneHotEncoder, PolynomialFeatures\n",
    "from sklearn.compose import ColumnTransformer\n",
    "from sklearn.pipeline import Pipeline\n",
    "import matplotlib.pyplot as plt\n",
    "from sklearn.model_selection import GridSearchCV\n",
    "import numpy as np\n",
    "from imblearn.over_sampling import SMOTE\n",
    "from imblearn.pipeline import Pipeline as ImbPipeline\n",
    "from sklearn.ensemble import VotingClassifier, AdaBoostClassifier, BaggingClassifier, StackingClassifier\n",
    "from sklearn.tree import DecisionTreeClassifier\n",
    "from sklearn.linear_model import LogisticRegression\n",
    "from sklearn.svm import SVC\n",
    "from sklearn.model_selection import GridSearchCV\n",
    "#from xgboost import XGBClassifier"
   ]
  },
  {
   "cell_type": "code",
   "execution_count": 4,
   "metadata": {},
   "outputs": [
    {
     "data": {
      "text/plain": [
       "(283211, 6)"
      ]
     },
     "execution_count": 4,
     "metadata": {},
     "output_type": "execute_result"
    }
   ],
   "source": [
    "df = pd.read_csv('/Users/antoinebertin/Documents/jedha/full_stack/projects_full_stack/crc/train_v1.csv')\n",
    "df.shape"
   ]
  },
  {
   "cell_type": "code",
   "execution_count": 5,
   "metadata": {},
   "outputs": [],
   "source": [
    "X = df.drop('converted', axis=1)\n",
    "y = df['converted']"
   ]
  },
  {
   "cell_type": "code",
   "execution_count": 6,
   "metadata": {},
   "outputs": [],
   "source": [
    "X_train, X_test, y_train, y_test = train_test_split(X, y, test_size=0.1, stratify=y, random_state=42)"
   ]
  },
  {
   "cell_type": "code",
   "execution_count": 7,
   "metadata": {},
   "outputs": [
    {
     "data": {
      "text/plain": [
       "country                object\n",
       "age                     int64\n",
       "new_user                int64\n",
       "source                 object\n",
       "total_pages_visited     int64\n",
       "dtype: object"
      ]
     },
     "execution_count": 7,
     "metadata": {},
     "output_type": "execute_result"
    }
   ],
   "source": [
    "X_train.dtypes"
   ]
  },
  {
   "cell_type": "code",
   "execution_count": 8,
   "metadata": {},
   "outputs": [],
   "source": [
    "# encoding and scaling\n",
    "categorical_features = ['country', 'source']\n",
    "numeric_features = ['age', 'new_user', 'total_pages_visited']\n",
    "\n",
    "preprocessor = ColumnTransformer(\n",
    "    transformers=[\n",
    "        ('num', StandardScaler(), numeric_features),\n",
    "        ('cat', OneHotEncoder(drop='first'), categorical_features)\n",
    "    ]\n",
    ")"
   ]
  },
  {
   "cell_type": "markdown",
   "metadata": {},
   "source": [
    "# pipeline1: LogisticRegression()"
   ]
  },
  {
   "cell_type": "code",
   "execution_count": 11,
   "metadata": {},
   "outputs": [
    {
     "name": "stdout",
     "output_type": "stream",
     "text": [
      "f1 score from train pipeline1: 0.763334226748861\n",
      "f1 score from test pipeline1: 0.766525166767738\n"
     ]
    }
   ],
   "source": [
    "pipeline1 = Pipeline(\n",
    "    steps=[\n",
    "        ('preprocessor', preprocessor),\n",
    "        ('classifier', LogisticRegression()) #LogisticRegression(class_weight='balanced')\n",
    "    ]\n",
    ")\n",
    "\n",
    "pipeline1_model = pipeline1.fit(X_train, y_train) #fit_transform\n",
    "\n",
    "pipeline1_y_pred_train = pipeline1_model.predict(X_train) #transform\n",
    "pipeline1_y_pred_test = pipeline1_model.predict(X_test) #transform\n",
    "\n",
    "print(\"f1 score from train pipeline1:\", f1_score(y_train, pipeline1_y_pred_train))\n",
    "print(\"f1 score from test pipeline1:\", f1_score(y_test, pipeline1_y_pred_test))"
   ]
  },
  {
   "cell_type": "markdown",
   "metadata": {},
   "source": [
    "# ❌ pipeline2"
   ]
  },
  {
   "cell_type": "code",
   "execution_count": 12,
   "metadata": {},
   "outputs": [
    {
     "name": "stdout",
     "output_type": "stream",
     "text": [
      "f1 score from train pipeline1: 0.7519824993163796\n",
      "f1 score from test pipeline1: 0.7624922887106724\n"
     ]
    }
   ],
   "source": [
    "pipeline2 = Pipeline(\n",
    "    steps=[\n",
    "        ('preprocessor', preprocessor),\n",
    "        ('classifier', LogisticRegression(penalty='l2', C=0.01)) #penalty='l1' => Lasso | penalty='l2' => Ridge | penalty='elasticnet' => ElasticNet\n",
    "    ]\n",
    ")\n",
    "\n",
    "pipeline2_model = pipeline2.fit(X_train, y_train)\n",
    "\n",
    "pipeline2_y_pred_train = pipeline2_model.predict(X_train)\n",
    "pipeline2_y_pred_test = pipeline2_model.predict(X_test)\n",
    "\n",
    "print(\"f1 score from train pipeline1:\", f1_score(y_train, pipeline2_y_pred_train))\n",
    "print(\"f1 score from test pipeline1:\", f1_score(y_test, pipeline2_y_pred_test))"
   ]
  },
  {
   "cell_type": "markdown",
   "metadata": {},
   "source": [
    "# pipeline3: LogisticRegression(C=10, penalty='l1', solver='saga')"
   ]
  },
  {
   "cell_type": "code",
   "execution_count": 20,
   "metadata": {},
   "outputs": [
    {
     "name": "stdout",
     "output_type": "stream",
     "text": [
      "f1 score from train pipeline1: 0.763334226748861\n",
      "f1 score from test pipeline1: 0.766525166767738\n"
     ]
    }
   ],
   "source": [
    "pipeline3 = Pipeline(\n",
    "    steps=[\n",
    "        ('preprocessor', preprocessor),\n",
    "        ('classifier', LogisticRegression(C=10, penalty='l1', solver='saga')) #penalty='l1' => Lasso | penalty='l2' => Ridge | penalty='elasticnet' => ElasticNet\n",
    "    ]\n",
    ")\n",
    "\n",
    "pipeline3_model = pipeline3.fit(X_train, y_train)\n",
    "\n",
    "pipeline3_y_pred_train = pipeline3_model.predict(X_train)\n",
    "pipeline3_y_pred_test = pipeline3_model.predict(X_test)\n",
    "\n",
    "print(\"f1 score from train pipeline1:\", f1_score(y_train, pipeline3_y_pred_train))\n",
    "print(\"f1 score from test pipeline1:\", f1_score(y_test, pipeline3_y_pred_test))"
   ]
  },
  {
   "cell_type": "markdown",
   "metadata": {},
   "source": [
    "# ❌ pipeline5 poly on important feature"
   ]
  },
  {
   "cell_type": "code",
   "execution_count": 11,
   "metadata": {},
   "outputs": [],
   "source": [
    "# Define your features\n",
    "categorical_features = ['country', 'source']\n",
    "numeric_features = ['age']\n",
    "important_feature = 'total_pages_visited'  # This is now a string, not a list\n",
    "\n",
    "# Define a pipeline for the important feature: Apply PolynomialFeatures followed by StandardScaler\n",
    "important_feature_pipeline = Pipeline([\n",
    "    ('poly', PolynomialFeatures(degree=2)),\n",
    "    ('scale', StandardScaler())\n",
    "])\n",
    "\n",
    "# Update the preprocessor to handle transformations correctly\n",
    "preprocessor_poly = ColumnTransformer(\n",
    "    transformers=[\n",
    "        # Apply the pipeline to the important feature\n",
    "        ('important_poly_scale', important_feature_pipeline, [important_feature]),\n",
    "        # Scale the rest of the numeric features\n",
    "        ('std_scaler', StandardScaler(), numeric_features),\n",
    "        # Apply OneHotEncoder to the categorical features\n",
    "        ('cat', OneHotEncoder(drop='first'), categorical_features)\n",
    "    ]\n",
    ")"
   ]
  },
  {
   "cell_type": "code",
   "execution_count": 12,
   "metadata": {},
   "outputs": [
    {
     "name": "stdout",
     "output_type": "stream",
     "text": [
      "F1 score from train pipeline5: 0.7316706525452683\n",
      "F1 score from test pipeline5: 0.7473618870266916\n"
     ]
    }
   ],
   "source": [
    "# Define the pipeline with the updated preprocessor\n",
    "pipeline5 = Pipeline([\n",
    "    ('preprocessor', preprocessor_poly),\n",
    "    ('classifier', LogisticRegression(C=10, penalty='l1', solver='saga'))\n",
    "])\n",
    "\n",
    "# Fit the model\n",
    "pipeline5_model = pipeline5.fit(X_train, y_train)\n",
    "\n",
    "# Make predictions\n",
    "pipeline5_y_pred_train = pipeline5_model.predict(X_train)\n",
    "pipeline5_y_pred_test = pipeline5_model.predict(X_test)\n",
    "\n",
    "# Evaluate the model\n",
    "print(\"F1 score from train pipeline5:\", f1_score(y_train, pipeline5_y_pred_train))\n",
    "print(\"F1 score from test pipeline5:\", f1_score(y_test, pipeline5_y_pred_test))"
   ]
  },
  {
   "cell_type": "markdown",
   "metadata": {},
   "source": [
    "# ❌ grid on pipeline1 for regularisation"
   ]
  },
  {
   "cell_type": "code",
   "execution_count": null,
   "metadata": {},
   "outputs": [],
   "source": [
    "param_grid_l1_l2_adjusted = {\n",
    "    'classifier__C': [0.001, 0.01, 0.1, 1, 10, 100, 1000],\n",
    "    'classifier__penalty': ['l1', 'l2'],\n",
    "    'classifier__solver': ['liblinear', 'saga'],  # 'liblinear' works well with 'l1' and 'l2'; 'saga' also supports 'l1' and 'l2'\n",
    "    'classifier__class_weight': [None, 'balanced']  # Adding class weight adjustment for imbalance\n",
    "}"
   ]
  },
  {
   "cell_type": "code",
   "execution_count": null,
   "metadata": {},
   "outputs": [],
   "source": [
    "grid_search = GridSearchCV(pipeline1, param_grid_l1_l2_adjusted, cv=5, scoring='f1', verbose=1, n_jobs=-1)"
   ]
  },
  {
   "cell_type": "code",
   "execution_count": null,
   "metadata": {},
   "outputs": [],
   "source": [
    "grid_search.fit(X_train, y_train)"
   ]
  },
  {
   "cell_type": "code",
   "execution_count": null,
   "metadata": {},
   "outputs": [
    {
     "data": {
      "text/html": [
       "<style>#sk-container-id-20 {color: black;background-color: white;}#sk-container-id-20 pre{padding: 0;}#sk-container-id-20 div.sk-toggleable {background-color: white;}#sk-container-id-20 label.sk-toggleable__label {cursor: pointer;display: block;width: 100%;margin-bottom: 0;padding: 0.3em;box-sizing: border-box;text-align: center;}#sk-container-id-20 label.sk-toggleable__label-arrow:before {content: \"▸\";float: left;margin-right: 0.25em;color: #696969;}#sk-container-id-20 label.sk-toggleable__label-arrow:hover:before {color: black;}#sk-container-id-20 div.sk-estimator:hover label.sk-toggleable__label-arrow:before {color: black;}#sk-container-id-20 div.sk-toggleable__content {max-height: 0;max-width: 0;overflow: hidden;text-align: left;background-color: #f0f8ff;}#sk-container-id-20 div.sk-toggleable__content pre {margin: 0.2em;color: black;border-radius: 0.25em;background-color: #f0f8ff;}#sk-container-id-20 input.sk-toggleable__control:checked~div.sk-toggleable__content {max-height: 200px;max-width: 100%;overflow: auto;}#sk-container-id-20 input.sk-toggleable__control:checked~label.sk-toggleable__label-arrow:before {content: \"▾\";}#sk-container-id-20 div.sk-estimator input.sk-toggleable__control:checked~label.sk-toggleable__label {background-color: #d4ebff;}#sk-container-id-20 div.sk-label input.sk-toggleable__control:checked~label.sk-toggleable__label {background-color: #d4ebff;}#sk-container-id-20 input.sk-hidden--visually {border: 0;clip: rect(1px 1px 1px 1px);clip: rect(1px, 1px, 1px, 1px);height: 1px;margin: -1px;overflow: hidden;padding: 0;position: absolute;width: 1px;}#sk-container-id-20 div.sk-estimator {font-family: monospace;background-color: #f0f8ff;border: 1px dotted black;border-radius: 0.25em;box-sizing: border-box;margin-bottom: 0.5em;}#sk-container-id-20 div.sk-estimator:hover {background-color: #d4ebff;}#sk-container-id-20 div.sk-parallel-item::after {content: \"\";width: 100%;border-bottom: 1px solid gray;flex-grow: 1;}#sk-container-id-20 div.sk-label:hover label.sk-toggleable__label {background-color: #d4ebff;}#sk-container-id-20 div.sk-serial::before {content: \"\";position: absolute;border-left: 1px solid gray;box-sizing: border-box;top: 0;bottom: 0;left: 50%;z-index: 0;}#sk-container-id-20 div.sk-serial {display: flex;flex-direction: column;align-items: center;background-color: white;padding-right: 0.2em;padding-left: 0.2em;position: relative;}#sk-container-id-20 div.sk-item {position: relative;z-index: 1;}#sk-container-id-20 div.sk-parallel {display: flex;align-items: stretch;justify-content: center;background-color: white;position: relative;}#sk-container-id-20 div.sk-item::before, #sk-container-id-20 div.sk-parallel-item::before {content: \"\";position: absolute;border-left: 1px solid gray;box-sizing: border-box;top: 0;bottom: 0;left: 50%;z-index: -1;}#sk-container-id-20 div.sk-parallel-item {display: flex;flex-direction: column;z-index: 1;position: relative;background-color: white;}#sk-container-id-20 div.sk-parallel-item:first-child::after {align-self: flex-end;width: 50%;}#sk-container-id-20 div.sk-parallel-item:last-child::after {align-self: flex-start;width: 50%;}#sk-container-id-20 div.sk-parallel-item:only-child::after {width: 0;}#sk-container-id-20 div.sk-dashed-wrapped {border: 1px dashed gray;margin: 0 0.4em 0.5em 0.4em;box-sizing: border-box;padding-bottom: 0.4em;background-color: white;}#sk-container-id-20 div.sk-label label {font-family: monospace;font-weight: bold;display: inline-block;line-height: 1.2em;}#sk-container-id-20 div.sk-label-container {text-align: center;}#sk-container-id-20 div.sk-container {/* jupyter's `normalize.less` sets `[hidden] { display: none; }` but bootstrap.min.css set `[hidden] { display: none !important; }` so we also need the `!important` here to be able to override the default hidden behavior on the sphinx rendered scikit-learn.org. See: https://github.com/scikit-learn/scikit-learn/issues/21755 */display: inline-block !important;position: relative;}#sk-container-id-20 div.sk-text-repr-fallback {display: none;}</style><div id=\"sk-container-id-20\" class=\"sk-top-container\"><div class=\"sk-text-repr-fallback\"><pre>LogisticRegression(C=1, penalty=&#x27;l1&#x27;, solver=&#x27;saga&#x27;)</pre><b>In a Jupyter environment, please rerun this cell to show the HTML representation or trust the notebook. <br />On GitHub, the HTML representation is unable to render, please try loading this page with nbviewer.org.</b></div><div class=\"sk-container\" hidden><div class=\"sk-item\"><div class=\"sk-estimator sk-toggleable\"><input class=\"sk-toggleable__control sk-hidden--visually\" id=\"sk-estimator-id-82\" type=\"checkbox\" checked><label for=\"sk-estimator-id-82\" class=\"sk-toggleable__label sk-toggleable__label-arrow\">LogisticRegression</label><div class=\"sk-toggleable__content\"><pre>LogisticRegression(C=1, penalty=&#x27;l1&#x27;, solver=&#x27;saga&#x27;)</pre></div></div></div></div></div>"
      ],
      "text/plain": [
       "LogisticRegression(C=1, penalty='l1', solver='saga')"
      ]
     },
     "execution_count": 129,
     "metadata": {},
     "output_type": "execute_result"
    }
   ],
   "source": [
    "# After fitting GridSearchCV\n",
    "grid_search.best_estimator_.named_steps['classifier']"
   ]
  },
  {
   "cell_type": "code",
   "execution_count": null,
   "metadata": {},
   "outputs": [
    {
     "name": "stdout",
     "output_type": "stream",
     "text": [
      "Best cross-validation score (Train only) F1: 0.7629758536462616\n"
     ]
    }
   ],
   "source": [
    "print(\"Best cross-validation score (Train only) F1:\", grid_search.best_score_)"
   ]
  },
  {
   "cell_type": "code",
   "execution_count": null,
   "metadata": {},
   "outputs": [
    {
     "data": {
      "text/plain": [
       "0.007345604372722851"
      ]
     },
     "execution_count": 131,
     "metadata": {},
     "output_type": "execute_result"
    }
   ],
   "source": [
    "best_index = grid_search.best_index_ # index of the best std\n",
    "std = grid_search.cv_results_['std_test_score'][best_index]\n",
    "print(f'Best std: {std:.3f}')"
   ]
  },
  {
   "cell_type": "code",
   "execution_count": null,
   "metadata": {},
   "outputs": [],
   "source": [
    "y_pred_train = grid_search.best_estimator_.predict(X_train)\n",
    "y_pred_test = grid_search.best_estimator_.predict(X_test)"
   ]
  },
  {
   "cell_type": "code",
   "execution_count": null,
   "metadata": {},
   "outputs": [
    {
     "name": "stdout",
     "output_type": "stream",
     "text": [
      "f1 score from train grid: 0.7629328957595648\n",
      "f1 score from test grid: 0.7653429602888087\n"
     ]
    }
   ],
   "source": [
    "print(\"f1 score from train grid:\", f1_score(y_train, y_pred_train))\n",
    "print(\"f1 score from test grid:\", f1_score(y_test, y_pred_test))"
   ]
  },
  {
   "cell_type": "markdown",
   "metadata": {},
   "source": [
    "# ❌ SMOTE"
   ]
  },
  {
   "cell_type": "code",
   "execution_count": null,
   "metadata": {},
   "outputs": [
    {
     "name": "stdout",
     "output_type": "stream",
     "text": [
      "f1 score from train pipeline1: 0.5123601242394588\n",
      "f1 score from test pipeline1: 0.5071554597137816\n"
     ]
    }
   ],
   "source": [
    "# Assuming 'preprocessor' is defined elsewhere in your code\n",
    "# Adjust your pipeline to include SMOTE\n",
    "pipeline1_smote = ImbPipeline(\n",
    "    steps=[\n",
    "        ('preprocessor', preprocessor),\n",
    "        ('smote', SMOTE(random_state=42)),\n",
    "            # Add the SMOTE step here\n",
    "        ('classifier', LogisticRegression(C=10, penalty='l1', solver='saga'))  # You can still specify class_weight if needed\n",
    "    ]\n",
    ")\n",
    "\n",
    "# Fit the pipeline on the original training data\n",
    "pipeline1_smote_model = pipeline1_smote.fit(X_train, y_train)\n",
    "\n",
    "# Predict on training and test sets\n",
    "pipeline1_smote_y_pred_train = pipeline1_smote_model.predict(X_train)\n",
    "pipeline1_smote_y_pred_test = pipeline1_smote_model.predict(X_test)\n",
    "\n",
    "# Calculate F1 scores\n",
    "print(\"f1 score from train pipeline1:\", f1_score(y_train, pipeline1_smote_y_pred_train))\n",
    "print(\"f1 score from test pipeline1:\", f1_score(y_test, pipeline1_smote_y_pred_test))"
   ]
  },
  {
   "cell_type": "markdown",
   "metadata": {},
   "source": [
    "# pipeline6: Bagging of -> DecisionTreeClassifier(max_depth=10, min_samples_leaf=7, min_samples_split=10, random_state=42)"
   ]
  },
  {
   "cell_type": "code",
   "execution_count": 10,
   "metadata": {},
   "outputs": [],
   "source": [
    "dt = DecisionTreeClassifier(max_depth=10, min_samples_leaf=7, min_samples_split=10) #hyperparameters found in a grid performed on the cloud\n",
    "bagging_model = BaggingClassifier(estimator=dt, n_estimators = 20)"
   ]
  },
  {
   "cell_type": "code",
   "execution_count": null,
   "metadata": {},
   "outputs": [],
   "source": []
  },
  {
   "cell_type": "markdown",
   "metadata": {},
   "source": [
    "# Save predictions in CSV"
   ]
  },
  {
   "cell_type": "code",
   "execution_count": 42,
   "metadata": {},
   "outputs": [],
   "source": [
    "test = pd.read_csv('/Users/antoinebertin/Documents/jedha/full_stack/projects_full_stack/crc/conversion_data_test.csv')"
   ]
  },
  {
   "cell_type": "code",
   "execution_count": 43,
   "metadata": {},
   "outputs": [],
   "source": [
    "predictions = pipeline3_model.predict(test)\n",
    "predictions_df = pd.DataFrame(predictions, columns=['Prediction'])"
   ]
  },
  {
   "cell_type": "code",
   "execution_count": 45,
   "metadata": {},
   "outputs": [],
   "source": [
    "predictions_df.to_csv('conversion_data_test_predictions_ANTOINE-logreg.csv', index=False)"
   ]
  }
 ],
 "metadata": {
  "kernelspec": {
   "display_name": "base",
   "language": "python",
   "name": "python3"
  },
  "language_info": {
   "codemirror_mode": {
    "name": "ipython",
    "version": 3
   },
   "file_extension": ".py",
   "mimetype": "text/x-python",
   "name": "python",
   "nbconvert_exporter": "python",
   "pygments_lexer": "ipython3",
   "version": "3.11.7"
  }
 },
 "nbformat": 4,
 "nbformat_minor": 2
}
